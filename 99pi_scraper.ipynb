{
 "cells": [
  {
   "cell_type": "markdown",
   "metadata": {},
   "source": [
    "# 99% Invisible Booklist"
   ]
  },
  {
   "cell_type": "markdown",
   "metadata": {},
   "source": [
    "Author: Lindsey Viann Parkinson\n",
    "Last updated: February 11, 2021\n",
    "\n",
    "\n",
    "Scrapes the 99% Invisible podcast website, 99pi.org, and pulls information from the episodes that interview an author. Specifically honing in on \"author of\" in the episode description"
   ]
  },
  {
   "cell_type": "code",
   "execution_count": 1,
   "metadata": {},
   "outputs": [],
   "source": [
    "import requests\n",
    "import pandas as pd\n",
    "import numpy as np\n",
    "\n",
    "from bs4 import BeautifulSoup\n",
    "\n",
    "# this is a fancy progress bar! works on jupyter notebook\n",
    "from tqdm.notebook import tqdm\n",
    "\n",
    "from time import sleep\n",
    "from datetime import datetime"
   ]
  },
  {
   "cell_type": "code",
   "execution_count": 2,
   "metadata": {},
   "outputs": [
    {
     "data": {
      "text/plain": [
       "200"
      ]
     },
     "execution_count": 2,
     "metadata": {},
     "output_type": "execute_result"
    }
   ],
   "source": [
    "url = 'https://99percentinvisible.org/episodes/?view_option=list'\n",
    "response = requests.get(url, timeout = 2)\n",
    "\n",
    "response.status_code # 200 is good "
   ]
  },
  {
   "cell_type": "code",
   "execution_count": 3,
   "metadata": {},
   "outputs": [],
   "source": [
    "soup = BeautifulSoup(response.content, \"html.parser\")"
   ]
  },
  {
   "cell_type": "code",
   "execution_count": 42,
   "metadata": {},
   "outputs": [],
   "source": [
    "one_episode = soup.find(\"article\", class_ = \"list-block post episode\")"
   ]
  },
  {
   "cell_type": "code",
   "execution_count": 5,
   "metadata": {},
   "outputs": [],
   "source": [
    "def get_episodes(soup):\n",
    "\n",
    "    cols = [\"date\", \"episode_number\", \"title\", \"episode_link\"]\n",
    "    df_page = pd.DataFrame(columns = cols)\n",
    "\n",
    "    all_episodes = soup.find_all(\"article\", class_ = \"list-block post episode\") # get from one_job_ad box\n",
    "    for episode in all_episodes:\n",
    "        \n",
    "        episode_link = episode.find(\"h3\", {\"class\": \"list-title\"}).find(\"a\").get(\"href\")\n",
    "        \n",
    "        span_list = []\n",
    "        for span in episode.find_all(\"span\"):\n",
    "            span_list.append(span.text) \n",
    "        \n",
    "        date = span_list[3]\n",
    "\n",
    "        episode_number = span_list[2]\n",
    "\n",
    "        title = episode.find(\"a\",{\"class\": \"play\"}).get(\"title\")\n",
    "\n",
    "        \n",
    "        df_page = df_page.append(\n",
    "            {\n",
    "                \"date\": date,\n",
    "                \"episode_number\": episode_number,\n",
    "                \"title\": title,\n",
    "                \"episode_link\": episode_link\n",
    "            },\n",
    "            ignore_index=True,\n",
    "        )\n",
    "        \n",
    "    return df_page\n"
   ]
  },
  {
   "cell_type": "code",
   "execution_count": 6,
   "metadata": {},
   "outputs": [],
   "source": [
    "df_page = get_episodes(soup)"
   ]
  },
  {
   "cell_type": "markdown",
   "metadata": {},
   "source": [
    "### get information for all episode pages"
   ]
  },
  {
   "cell_type": "code",
   "execution_count": 7,
   "metadata": {},
   "outputs": [],
   "source": [
    "link_first_part = \"https://99percentinvisible.org/episodes/page/\"\n",
    "link_2_part = \"/?view_option=list\""
   ]
  },
  {
   "cell_type": "code",
   "execution_count": 8,
   "metadata": {},
   "outputs": [],
   "source": [
    "max_pages = soup.find(\"a\",{\"class\": \"page-numbers\"}).find_next_siblings(\"a\")[-1].get(\"data-page-number\")"
   ]
  },
  {
   "cell_type": "code",
   "execution_count": 9,
   "metadata": {
    "scrolled": true
   },
   "outputs": [
    {
     "data": {
      "application/vnd.jupyter.widget-view+json": {
       "model_id": "817f9bbb45504564acfbc62f8ce679da",
       "version_major": 2,
       "version_minor": 0
      },
      "text/plain": [
       "HBox(children=(FloatProgress(value=0.0, max=4.0), HTML(value='')))"
      ]
     },
     "metadata": {},
     "output_type": "display_data"
    },
    {
     "name": "stdout",
     "output_type": "stream",
     "text": [
      "\n"
     ]
    }
   ],
   "source": [
    "#remove later to scrape all pages\n",
    "max_pages = 4\n",
    "\n",
    "#can make this better. Don't need a second time\n",
    "cols = [\"date\", \"episode_number\", \"title\", \"episode_link\"]\n",
    "df = pd.DataFrame(columns = cols)\n",
    "\n",
    "for page in tqdm(range(1, int(max_pages) + 1)):\n",
    "    \"\"\"Make the urls dynamic\"\"\"\n",
    "    url = (\n",
    "        link_first_part\n",
    "        + str(page)\n",
    "        + link_2_part\n",
    "    )\n",
    "    response = requests.get(url, timeout=15)\n",
    "    soup = BeautifulSoup(response.content, \"html.parser\")\n",
    "\n",
    "    df_page = get_episodes(soup)  # function created earlier\n",
    "    df = df.append(df_page, ignore_index=True)\n",
    "\n",
    "    sleep(0.6) # to keep up with human speed we need to slow down program"
   ]
  },
  {
   "cell_type": "code",
   "execution_count": 10,
   "metadata": {
    "scrolled": true
   },
   "outputs": [
    {
     "data": {
      "text/html": [
       "<div>\n",
       "<style scoped>\n",
       "    .dataframe tbody tr th:only-of-type {\n",
       "        vertical-align: middle;\n",
       "    }\n",
       "\n",
       "    .dataframe tbody tr th {\n",
       "        vertical-align: top;\n",
       "    }\n",
       "\n",
       "    .dataframe thead th {\n",
       "        text-align: right;\n",
       "    }\n",
       "</style>\n",
       "<table border=\"1\" class=\"dataframe\">\n",
       "  <thead>\n",
       "    <tr style=\"text-align: right;\">\n",
       "      <th></th>\n",
       "      <th>date</th>\n",
       "      <th>episode_number</th>\n",
       "      <th>title</th>\n",
       "      <th>episode_link</th>\n",
       "    </tr>\n",
       "  </thead>\n",
       "  <tbody>\n",
       "    <tr>\n",
       "      <th>0</th>\n",
       "      <td>02.16.21</td>\n",
       "      <td>Episode 431</td>\n",
       "      <td>12 Heads from the Garden of Perfect Brightness</td>\n",
       "      <td>https://99percentinvisible.org/episode/12-head...</td>\n",
       "    </tr>\n",
       "    <tr>\n",
       "      <th>1</th>\n",
       "      <td>02.08.21</td>\n",
       "      <td>Episode 430</td>\n",
       "      <td>The Doom Boom</td>\n",
       "      <td>https://99percentinvisible.org/episode/the-doo...</td>\n",
       "    </tr>\n",
       "    <tr>\n",
       "      <th>2</th>\n",
       "      <td>02.02.21</td>\n",
       "      <td>Episode 429</td>\n",
       "      <td>Stuccoed in Time</td>\n",
       "      <td>https://99percentinvisible.org/episode/stuccoe...</td>\n",
       "    </tr>\n",
       "    <tr>\n",
       "      <th>3</th>\n",
       "      <td>01.26.21</td>\n",
       "      <td>Episode 428</td>\n",
       "      <td>Beneath the Skyway</td>\n",
       "      <td>https://99percentinvisible.org/episode/beneath...</td>\n",
       "    </tr>\n",
       "    <tr>\n",
       "      <th>4</th>\n",
       "      <td>01.19.21</td>\n",
       "      <td>Episode 427</td>\n",
       "      <td>Mini-Stories: Volume 11</td>\n",
       "      <td>https://99percentinvisible.org/episode/mini-st...</td>\n",
       "    </tr>\n",
       "    <tr>\n",
       "      <th>...</th>\n",
       "      <td>...</td>\n",
       "      <td>...</td>\n",
       "      <td>...</td>\n",
       "      <td>...</td>\n",
       "    </tr>\n",
       "    <tr>\n",
       "      <th>115</th>\n",
       "      <td>12.24.18</td>\n",
       "      <td>Episode 334</td>\n",
       "      <td>Christmas with The Allusionist</td>\n",
       "      <td>https://99percentinvisible.org/episode/christm...</td>\n",
       "    </tr>\n",
       "    <tr>\n",
       "      <th>116</th>\n",
       "      <td>12.18.18</td>\n",
       "      <td>Episode 333</td>\n",
       "      <td>Mini Stories: Volume 5</td>\n",
       "      <td>https://99percentinvisible.org/episode/mini-st...</td>\n",
       "    </tr>\n",
       "    <tr>\n",
       "      <th>117</th>\n",
       "      <td>12.11.18</td>\n",
       "      <td>Episode 332</td>\n",
       "      <td>The Accidental Room</td>\n",
       "      <td>https://99percentinvisible.org/episode/the-acc...</td>\n",
       "    </tr>\n",
       "    <tr>\n",
       "      <th>118</th>\n",
       "      <td>12.04.18</td>\n",
       "      <td>Episode 331</td>\n",
       "      <td>Oñate’s Foot</td>\n",
       "      <td>https://99percentinvisible.org/episode/onates-...</td>\n",
       "    </tr>\n",
       "    <tr>\n",
       "      <th>119</th>\n",
       "      <td>11.27.18</td>\n",
       "      <td>Episode 330</td>\n",
       "      <td>Raccoon Resistance</td>\n",
       "      <td>https://99percentinvisible.org/episode/raccoon...</td>\n",
       "    </tr>\n",
       "  </tbody>\n",
       "</table>\n",
       "<p>120 rows × 4 columns</p>\n",
       "</div>"
      ],
      "text/plain": [
       "         date episode_number                                           title  \\\n",
       "0    02.16.21    Episode 431  12 Heads from the Garden of Perfect Brightness   \n",
       "1    02.08.21    Episode 430                                   The Doom Boom   \n",
       "2    02.02.21    Episode 429                                Stuccoed in Time   \n",
       "3    01.26.21    Episode 428                              Beneath the Skyway   \n",
       "4    01.19.21    Episode 427                         Mini-Stories: Volume 11   \n",
       "..        ...            ...                                             ...   \n",
       "115  12.24.18    Episode 334                  Christmas with The Allusionist   \n",
       "116  12.18.18    Episode 333                          Mini Stories: Volume 5   \n",
       "117  12.11.18    Episode 332                             The Accidental Room   \n",
       "118  12.04.18    Episode 331                                    Oñate’s Foot   \n",
       "119  11.27.18    Episode 330                              Raccoon Resistance   \n",
       "\n",
       "                                          episode_link  \n",
       "0    https://99percentinvisible.org/episode/12-head...  \n",
       "1    https://99percentinvisible.org/episode/the-doo...  \n",
       "2    https://99percentinvisible.org/episode/stuccoe...  \n",
       "3    https://99percentinvisible.org/episode/beneath...  \n",
       "4    https://99percentinvisible.org/episode/mini-st...  \n",
       "..                                                 ...  \n",
       "115  https://99percentinvisible.org/episode/christm...  \n",
       "116  https://99percentinvisible.org/episode/mini-st...  \n",
       "117  https://99percentinvisible.org/episode/the-acc...  \n",
       "118  https://99percentinvisible.org/episode/onates-...  \n",
       "119  https://99percentinvisible.org/episode/raccoon...  \n",
       "\n",
       "[120 rows x 4 columns]"
      ]
     },
     "execution_count": 10,
     "metadata": {},
     "output_type": "execute_result"
    }
   ],
   "source": [
    "df"
   ]
  },
  {
   "cell_type": "markdown",
   "metadata": {},
   "source": [
    "### information from each link"
   ]
  },
  {
   "cell_type": "code",
   "execution_count": 31,
   "metadata": {},
   "outputs": [
    {
     "data": {
      "text/plain": [
       "'https://99percentinvisible.org/episode/12-heads-from-the-garden-of-perfect-brightness/'"
      ]
     },
     "execution_count": 31,
     "metadata": {},
     "output_type": "execute_result"
    }
   ],
   "source": [
    "episode_link = df[\"episode_link\"][0]\n",
    "episode_link"
   ]
  },
  {
   "cell_type": "code",
   "execution_count": 41,
   "metadata": {
    "scrolled": true
   },
   "outputs": [],
   "source": [
    "response2 = requests.get(episode_link, timeout=15)\n",
    "soup2 = BeautifulSoup(response2.content, \"html.parser\")\n"
   ]
  },
  {
   "cell_type": "code",
   "execution_count": 33,
   "metadata": {},
   "outputs": [],
   "source": [
    "footer = soup2.find(\"footer\")"
   ]
  },
  {
   "cell_type": "code",
   "execution_count": 40,
   "metadata": {},
   "outputs": [
    {
     "data": {
      "text/plain": [
       "['Producer Vivian Le spoke with Ai Weiwei, artist and activist; Patricia Yu, a doctoral candidate in the History of Art at UC Berkeley; Frederick Green, Associate Professor of Chinese and San Francisco State University; Zheng Wang, professor at the School of Diplomacy and International Relations at Seton Hall University and author of ',\n",
       " <em>Never Forget National Humiliation; </em>,\n",
       " 'Lark Mason, Chinese art and antiquities specialist; Audrey Wang, historian of Chinese Art and author of ',\n",
       " <em>Chinese Antiquities: An Introduction to the Art Market. </em>,\n",
       " 'Translation and production assistance by Wenjie Yang.']"
      ]
     },
     "execution_count": 40,
     "metadata": {},
     "output_type": "execute_result"
    }
   ],
   "source": [
    "description = footer.find(\"div\", {\"class\": \"credit\"}).find(\"p\").contents"
   ]
  },
  {
   "cell_type": "code",
   "execution_count": 51,
   "metadata": {},
   "outputs": [],
   "source": [
    "def get_description(df):\n",
    "    description = []\n",
    "    for link in tqdm(df[\"episode_link\"]):\n",
    "        response2 = requests.get(link, timeout=15)\n",
    "        soup2 = BeautifulSoup(response2.content, \"html.parser\")\n",
    "        \n",
    "        try: \n",
    "            footer = soup2.find(\"footer\")\n",
    "            desc = footer.find(\"div\", {\"class\": \"credit\"}).find(\"p\").contents\n",
    "            description.append(desc)\n",
    "        except:\n",
    "            description.append('NA')\n",
    "    \n",
    "    df[\"description\"] = description\n",
    "    return df"
   ]
  },
  {
   "cell_type": "code",
   "execution_count": 52,
   "metadata": {
    "scrolled": true
   },
   "outputs": [
    {
     "data": {
      "application/vnd.jupyter.widget-view+json": {
       "model_id": "f678a43803c745dfaef7dc000773c95d",
       "version_major": 2,
       "version_minor": 0
      },
      "text/plain": [
       "HBox(children=(FloatProgress(value=0.0, max=120.0), HTML(value='')))"
      ]
     },
     "metadata": {},
     "output_type": "display_data"
    },
    {
     "name": "stdout",
     "output_type": "stream",
     "text": [
      "\n"
     ]
    },
    {
     "data": {
      "text/html": [
       "<div>\n",
       "<style scoped>\n",
       "    .dataframe tbody tr th:only-of-type {\n",
       "        vertical-align: middle;\n",
       "    }\n",
       "\n",
       "    .dataframe tbody tr th {\n",
       "        vertical-align: top;\n",
       "    }\n",
       "\n",
       "    .dataframe thead th {\n",
       "        text-align: right;\n",
       "    }\n",
       "</style>\n",
       "<table border=\"1\" class=\"dataframe\">\n",
       "  <thead>\n",
       "    <tr style=\"text-align: right;\">\n",
       "      <th></th>\n",
       "      <th>date</th>\n",
       "      <th>episode_number</th>\n",
       "      <th>title</th>\n",
       "      <th>episode_link</th>\n",
       "      <th>description</th>\n",
       "    </tr>\n",
       "  </thead>\n",
       "  <tbody>\n",
       "    <tr>\n",
       "      <th>0</th>\n",
       "      <td>02.16.21</td>\n",
       "      <td>Episode 431</td>\n",
       "      <td>12 Heads from the Garden of Perfect Brightness</td>\n",
       "      <td>https://99percentinvisible.org/episode/12-head...</td>\n",
       "      <td>[Producer Vivian Le spoke with Ai Weiwei, arti...</td>\n",
       "    </tr>\n",
       "    <tr>\n",
       "      <th>1</th>\n",
       "      <td>02.08.21</td>\n",
       "      <td>Episode 430</td>\n",
       "      <td>The Doom Boom</td>\n",
       "      <td>https://99percentinvisible.org/episode/the-doo...</td>\n",
       "      <td>[Host Roman Mars spoke with Bradley Garrett, a...</td>\n",
       "    </tr>\n",
       "    <tr>\n",
       "      <th>2</th>\n",
       "      <td>02.02.21</td>\n",
       "      <td>Episode 429</td>\n",
       "      <td>Stuccoed in Time</td>\n",
       "      <td>https://99percentinvisible.org/episode/stuccoe...</td>\n",
       "      <td>[Delaney Hall spoke with architect Trey Jordan...</td>\n",
       "    </tr>\n",
       "    <tr>\n",
       "      <th>3</th>\n",
       "      <td>01.26.21</td>\n",
       "      <td>Episode 428</td>\n",
       "      <td>Beneath the Skyway</td>\n",
       "      <td>https://99percentinvisible.org/episode/beneath...</td>\n",
       "      <td>[Reporter Katie Thornton spoke with Bill Linde...</td>\n",
       "    </tr>\n",
       "    <tr>\n",
       "      <th>4</th>\n",
       "      <td>01.19.21</td>\n",
       "      <td>Episode 427</td>\n",
       "      <td>Mini-Stories: Volume 11</td>\n",
       "      <td>https://99percentinvisible.org/episode/mini-st...</td>\n",
       "      <td>NA</td>\n",
       "    </tr>\n",
       "    <tr>\n",
       "      <th>...</th>\n",
       "      <td>...</td>\n",
       "      <td>...</td>\n",
       "      <td>...</td>\n",
       "      <td>...</td>\n",
       "      <td>...</td>\n",
       "    </tr>\n",
       "    <tr>\n",
       "      <th>115</th>\n",
       "      <td>12.24.18</td>\n",
       "      <td>Episode 334</td>\n",
       "      <td>Christmas with The Allusionist</td>\n",
       "      <td>https://99percentinvisible.org/episode/christm...</td>\n",
       "      <td>NA</td>\n",
       "    </tr>\n",
       "    <tr>\n",
       "      <th>116</th>\n",
       "      <td>12.18.18</td>\n",
       "      <td>Episode 333</td>\n",
       "      <td>Mini Stories: Volume 5</td>\n",
       "      <td>https://99percentinvisible.org/episode/mini-st...</td>\n",
       "      <td>NA</td>\n",
       "    </tr>\n",
       "    <tr>\n",
       "      <th>117</th>\n",
       "      <td>12.11.18</td>\n",
       "      <td>Episode 332</td>\n",
       "      <td>The Accidental Room</td>\n",
       "      <td>https://99percentinvisible.org/episode/the-acc...</td>\n",
       "      <td>[This piece was reported by , [Vanessa Lowe], ...</td>\n",
       "    </tr>\n",
       "    <tr>\n",
       "      <th>118</th>\n",
       "      <td>12.04.18</td>\n",
       "      <td>Episode 331</td>\n",
       "      <td>Oñate’s Foot</td>\n",
       "      <td>https://99percentinvisible.org/episode/onates-...</td>\n",
       "      <td>[Reporter Stan Alcorn spoke with , [Larry Call...</td>\n",
       "    </tr>\n",
       "    <tr>\n",
       "      <th>119</th>\n",
       "      <td>11.27.18</td>\n",
       "      <td>Episode 330</td>\n",
       "      <td>Raccoon Resistance</td>\n",
       "      <td>https://99percentinvisible.org/episode/raccoon...</td>\n",
       "      <td>[Producer Katie Mingle spoke with Journalist ,...</td>\n",
       "    </tr>\n",
       "  </tbody>\n",
       "</table>\n",
       "<p>120 rows × 5 columns</p>\n",
       "</div>"
      ],
      "text/plain": [
       "         date episode_number                                           title  \\\n",
       "0    02.16.21    Episode 431  12 Heads from the Garden of Perfect Brightness   \n",
       "1    02.08.21    Episode 430                                   The Doom Boom   \n",
       "2    02.02.21    Episode 429                                Stuccoed in Time   \n",
       "3    01.26.21    Episode 428                              Beneath the Skyway   \n",
       "4    01.19.21    Episode 427                         Mini-Stories: Volume 11   \n",
       "..        ...            ...                                             ...   \n",
       "115  12.24.18    Episode 334                  Christmas with The Allusionist   \n",
       "116  12.18.18    Episode 333                          Mini Stories: Volume 5   \n",
       "117  12.11.18    Episode 332                             The Accidental Room   \n",
       "118  12.04.18    Episode 331                                    Oñate’s Foot   \n",
       "119  11.27.18    Episode 330                              Raccoon Resistance   \n",
       "\n",
       "                                          episode_link  \\\n",
       "0    https://99percentinvisible.org/episode/12-head...   \n",
       "1    https://99percentinvisible.org/episode/the-doo...   \n",
       "2    https://99percentinvisible.org/episode/stuccoe...   \n",
       "3    https://99percentinvisible.org/episode/beneath...   \n",
       "4    https://99percentinvisible.org/episode/mini-st...   \n",
       "..                                                 ...   \n",
       "115  https://99percentinvisible.org/episode/christm...   \n",
       "116  https://99percentinvisible.org/episode/mini-st...   \n",
       "117  https://99percentinvisible.org/episode/the-acc...   \n",
       "118  https://99percentinvisible.org/episode/onates-...   \n",
       "119  https://99percentinvisible.org/episode/raccoon...   \n",
       "\n",
       "                                           description  \n",
       "0    [Producer Vivian Le spoke with Ai Weiwei, arti...  \n",
       "1    [Host Roman Mars spoke with Bradley Garrett, a...  \n",
       "2    [Delaney Hall spoke with architect Trey Jordan...  \n",
       "3    [Reporter Katie Thornton spoke with Bill Linde...  \n",
       "4                                                   NA  \n",
       "..                                                 ...  \n",
       "115                                                 NA  \n",
       "116                                                 NA  \n",
       "117  [This piece was reported by , [Vanessa Lowe], ...  \n",
       "118  [Reporter Stan Alcorn spoke with , [Larry Call...  \n",
       "119  [Producer Katie Mingle spoke with Journalist ,...  \n",
       "\n",
       "[120 rows x 5 columns]"
      ]
     },
     "execution_count": 52,
     "metadata": {},
     "output_type": "execute_result"
    }
   ],
   "source": [
    "get_description(df)"
   ]
  },
  {
   "cell_type": "code",
   "execution_count": 55,
   "metadata": {},
   "outputs": [
    {
     "data": {
      "text/plain": [
       "['This piece was reported by ',\n",
       " <a href=\"https://twitter.com/nesslowe?lang=en\" rel=\"noopener noreferrer\" target=\"_blank\">Vanessa Lowe</a>,\n",
       " ' and edited for\\xa0',\n",
       " <em>99% Invisible</em>,\n",
       " '\\xa0by producer Joe Rosenberg. A\\xa0different version\\xa0originally aired on the podcast\\xa0 ',\n",
       " <a href=\"https://nocturnepodcast.org/\" rel=\"noopener noreferrer\" target=\"_blank\">Nocturne</a>,\n",
       " '.']"
      ]
     },
     "execution_count": 55,
     "metadata": {},
     "output_type": "execute_result"
    }
   ],
   "source": [
    "df['description'][117]"
   ]
  }
 ],
 "metadata": {
  "kernelspec": {
   "display_name": "Python 3",
   "language": "python",
   "name": "python3"
  },
  "language_info": {
   "codemirror_mode": {
    "name": "ipython",
    "version": 3
   },
   "file_extension": ".py",
   "mimetype": "text/x-python",
   "name": "python",
   "nbconvert_exporter": "python",
   "pygments_lexer": "ipython3",
   "version": "3.8.3"
  }
 },
 "nbformat": 4,
 "nbformat_minor": 4
}
