{
 "cells": [
  {
   "cell_type": "markdown",
   "metadata": {},
   "source": [
    "# 99% Invisible Booklist"
   ]
  },
  {
   "cell_type": "markdown",
   "metadata": {},
   "source": [
    "Author: Lindsey Viann Parkinson\n",
    "Last updated: February 10, 2021\n",
    "\n",
    "\n",
    "Scrapes the 99% Invisible podcast website, 99pi.org, and pulls information from the episodes that interview an author. Specifically honing in on \"author of\" in the episode description"
   ]
  },
  {
   "cell_type": "code",
   "execution_count": 6,
   "metadata": {},
   "outputs": [],
   "source": [
    "import requests\n",
    "import pandas as pd\n",
    "import numpy as np\n",
    "\n",
    "from bs4 import BeautifulSoup\n",
    "\n",
    "# this is a fancy progress bar! works on jupyter notebook\n",
    "from tqdm.notebook import tqdm\n",
    "\n",
    "from time import sleep\n",
    "from datetime import datetime"
   ]
  },
  {
   "cell_type": "code",
   "execution_count": 8,
   "metadata": {},
   "outputs": [
    {
     "data": {
      "text/plain": [
       "200"
      ]
     },
     "execution_count": 8,
     "metadata": {},
     "output_type": "execute_result"
    }
   ],
   "source": [
    "url = 'https://99percentinvisible.org/episodes/?view_option=list'\n",
    "response = requests.get(url, timeout = 2)\n",
    "\n",
    "response.status_code # 200 is good "
   ]
  },
  {
   "cell_type": "code",
   "execution_count": 75,
   "metadata": {},
   "outputs": [],
   "source": [
    "soup = BeautifulSoup(response.content, \"html.parser\")"
   ]
  },
  {
   "cell_type": "code",
   "execution_count": 76,
   "metadata": {},
   "outputs": [],
   "source": [
    "one_episode = soup.find(\"article\", class_ = \"list-block post episode\")\n"
   ]
  },
  {
   "cell_type": "code",
   "execution_count": 50,
   "metadata": {},
   "outputs": [],
   "source": [
    "def get_episodes(soup):\n",
    "\n",
    "    cols = [\"date\", \"episode_number\", \"title\", \"episode_link\"]\n",
    "    df_page = pd.DataFrame(columns = cols)\n",
    "\n",
    "    all_episodes = soup.find_all(\"article\", class_ = \"list-block post episode\") # get from one_job_ad box\n",
    "    for episode in all_episodes:\n",
    "        \n",
    "        episode_link = episode.find(\"h3\", {\"class\": \"list-title\"}).find(\"a\").get(\"href\")\n",
    "        \n",
    "        span_list = []\n",
    "        for span in episode.find_all(\"span\"):\n",
    "            span_list.append(span.text) \n",
    "        \n",
    "        date = span_list[3]\n",
    "\n",
    "        episode_number = span_list[2]\n",
    "\n",
    "        title = episode.find(\"a\",{\"class\": \"play\"}).get(\"title\")\n",
    "\n",
    "        \n",
    "        df_page = df_page.append(\n",
    "            {\n",
    "                \"date\": date,\n",
    "                \"episode_number\": episode_number,\n",
    "                \"title\": title,\n",
    "                \"episode_link\": episode_link\n",
    "            },\n",
    "            ignore_index=True,\n",
    "        )\n",
    "        \n",
    "    return df_page\n"
   ]
  },
  {
   "cell_type": "code",
   "execution_count": 51,
   "metadata": {},
   "outputs": [],
   "source": [
    "df_page = get_episodes(soup)"
   ]
  },
  {
   "cell_type": "markdown",
   "metadata": {},
   "source": [
    "### get information for all episode pages"
   ]
  },
  {
   "cell_type": "code",
   "execution_count": 82,
   "metadata": {},
   "outputs": [],
   "source": [
    "link_first_part = \"https://99percentinvisible.org/episodes/page/\"\n",
    "link_2_part = \"/?view_option=list\""
   ]
  },
  {
   "cell_type": "code",
   "execution_count": 67,
   "metadata": {},
   "outputs": [
    {
     "data": {
      "text/plain": [
       "'16'"
      ]
     },
     "execution_count": 67,
     "metadata": {},
     "output_type": "execute_result"
    }
   ],
   "source": [
    "max_pages = soup.find(\"a\",{\"class\": \"page-numbers\"}).find_next_siblings(\"a\")[-1].get(\"data-page-number\")"
   ]
  },
  {
   "cell_type": "code",
   "execution_count": 83,
   "metadata": {
    "scrolled": true
   },
   "outputs": [
    {
     "data": {
      "application/vnd.jupyter.widget-view+json": {
       "model_id": "da713448d47947c9bac974ce3cdd7bf1",
       "version_major": 2,
       "version_minor": 0
      },
      "text/plain": [
       "HBox(children=(FloatProgress(value=0.0, max=4.0), HTML(value='')))"
      ]
     },
     "metadata": {},
     "output_type": "display_data"
    },
    {
     "name": "stdout",
     "output_type": "stream",
     "text": [
      "\n"
     ]
    }
   ],
   "source": [
    "#remove later to scrape all pages\n",
    "max_pages = 4\n",
    "\n",
    "#can make this better. Don't need a second time\n",
    "cols = [\"date\", \"episode_number\", \"title\", \"episode_link\"]\n",
    "df = pd.DataFrame(columns = cols)\n",
    "\n",
    "for page in tqdm(range(1, int(max_pages) + 1)):\n",
    "    \"\"\"Make the urls dynamic\"\"\"\n",
    "    url = (\n",
    "        link_first_part\n",
    "        + str(page)\n",
    "        + link_2_part\n",
    "    )\n",
    "    response = requests.get(url, timeout=15)\n",
    "    soup = BeautifulSoup(response.content, \"html.parser\")\n",
    "\n",
    "    df_page = get_episodes(soup)  # function created earlier\n",
    "    df = df.append(df_page, ignore_index=True)\n",
    "\n",
    "    sleep(0.6) # to keep up with human speed we need to slow down program"
   ]
  },
  {
   "cell_type": "code",
   "execution_count": 84,
   "metadata": {},
   "outputs": [
    {
     "data": {
      "text/html": [
       "<div>\n",
       "<style scoped>\n",
       "    .dataframe tbody tr th:only-of-type {\n",
       "        vertical-align: middle;\n",
       "    }\n",
       "\n",
       "    .dataframe tbody tr th {\n",
       "        vertical-align: top;\n",
       "    }\n",
       "\n",
       "    .dataframe thead th {\n",
       "        text-align: right;\n",
       "    }\n",
       "</style>\n",
       "<table border=\"1\" class=\"dataframe\">\n",
       "  <thead>\n",
       "    <tr style=\"text-align: right;\">\n",
       "      <th></th>\n",
       "      <th>date</th>\n",
       "      <th>episode_number</th>\n",
       "      <th>title</th>\n",
       "      <th>episode_link</th>\n",
       "    </tr>\n",
       "  </thead>\n",
       "  <tbody>\n",
       "    <tr>\n",
       "      <th>0</th>\n",
       "      <td>02.08.21</td>\n",
       "      <td>Episode 430</td>\n",
       "      <td>The Doom Boom</td>\n",
       "      <td>https://99percentinvisible.org/episode/the-doo...</td>\n",
       "    </tr>\n",
       "    <tr>\n",
       "      <th>1</th>\n",
       "      <td>02.02.21</td>\n",
       "      <td>Episode 429</td>\n",
       "      <td>Stuccoed in Time</td>\n",
       "      <td>https://99percentinvisible.org/episode/stuccoe...</td>\n",
       "    </tr>\n",
       "    <tr>\n",
       "      <th>2</th>\n",
       "      <td>01.26.21</td>\n",
       "      <td>Episode 428</td>\n",
       "      <td>Beneath the Skyway</td>\n",
       "      <td>https://99percentinvisible.org/episode/beneath...</td>\n",
       "    </tr>\n",
       "    <tr>\n",
       "      <th>3</th>\n",
       "      <td>01.19.21</td>\n",
       "      <td>Episode 427</td>\n",
       "      <td>Mini-Stories: Volume 11</td>\n",
       "      <td>https://99percentinvisible.org/episode/mini-st...</td>\n",
       "    </tr>\n",
       "    <tr>\n",
       "      <th>4</th>\n",
       "      <td>01.12.21</td>\n",
       "      <td>Episode 426</td>\n",
       "      <td>Mini-Stories: Volume 10</td>\n",
       "      <td>https://99percentinvisible.org/episode/mini-st...</td>\n",
       "    </tr>\n",
       "    <tr>\n",
       "      <th>...</th>\n",
       "      <td>...</td>\n",
       "      <td>...</td>\n",
       "      <td>...</td>\n",
       "      <td>...</td>\n",
       "    </tr>\n",
       "    <tr>\n",
       "      <th>115</th>\n",
       "      <td>12.18.18</td>\n",
       "      <td>Episode 333</td>\n",
       "      <td>Mini Stories: Volume 5</td>\n",
       "      <td>https://99percentinvisible.org/episode/mini-st...</td>\n",
       "    </tr>\n",
       "    <tr>\n",
       "      <th>116</th>\n",
       "      <td>12.11.18</td>\n",
       "      <td>Episode 332</td>\n",
       "      <td>The Accidental Room</td>\n",
       "      <td>https://99percentinvisible.org/episode/the-acc...</td>\n",
       "    </tr>\n",
       "    <tr>\n",
       "      <th>117</th>\n",
       "      <td>12.04.18</td>\n",
       "      <td>Episode 331</td>\n",
       "      <td>Oñate’s Foot</td>\n",
       "      <td>https://99percentinvisible.org/episode/onates-...</td>\n",
       "    </tr>\n",
       "    <tr>\n",
       "      <th>118</th>\n",
       "      <td>11.27.18</td>\n",
       "      <td>Episode 330</td>\n",
       "      <td>Raccoon Resistance</td>\n",
       "      <td>https://99percentinvisible.org/episode/raccoon...</td>\n",
       "    </tr>\n",
       "    <tr>\n",
       "      <th>119</th>\n",
       "      <td>11.13.18</td>\n",
       "      <td>Episode 201</td>\n",
       "      <td>The Green Book Redux</td>\n",
       "      <td>https://99percentinvisible.org/episode/the-gre...</td>\n",
       "    </tr>\n",
       "  </tbody>\n",
       "</table>\n",
       "<p>120 rows × 4 columns</p>\n",
       "</div>"
      ],
      "text/plain": [
       "         date episode_number                    title  \\\n",
       "0    02.08.21    Episode 430            The Doom Boom   \n",
       "1    02.02.21    Episode 429         Stuccoed in Time   \n",
       "2    01.26.21    Episode 428       Beneath the Skyway   \n",
       "3    01.19.21    Episode 427  Mini-Stories: Volume 11   \n",
       "4    01.12.21    Episode 426  Mini-Stories: Volume 10   \n",
       "..        ...            ...                      ...   \n",
       "115  12.18.18    Episode 333   Mini Stories: Volume 5   \n",
       "116  12.11.18    Episode 332      The Accidental Room   \n",
       "117  12.04.18    Episode 331             Oñate’s Foot   \n",
       "118  11.27.18    Episode 330       Raccoon Resistance   \n",
       "119  11.13.18    Episode 201     The Green Book Redux   \n",
       "\n",
       "                                          episode_link  \n",
       "0    https://99percentinvisible.org/episode/the-doo...  \n",
       "1    https://99percentinvisible.org/episode/stuccoe...  \n",
       "2    https://99percentinvisible.org/episode/beneath...  \n",
       "3    https://99percentinvisible.org/episode/mini-st...  \n",
       "4    https://99percentinvisible.org/episode/mini-st...  \n",
       "..                                                 ...  \n",
       "115  https://99percentinvisible.org/episode/mini-st...  \n",
       "116  https://99percentinvisible.org/episode/the-acc...  \n",
       "117  https://99percentinvisible.org/episode/onates-...  \n",
       "118  https://99percentinvisible.org/episode/raccoon...  \n",
       "119  https://99percentinvisible.org/episode/the-gre...  \n",
       "\n",
       "[120 rows x 4 columns]"
      ]
     },
     "execution_count": 84,
     "metadata": {},
     "output_type": "execute_result"
    }
   ],
   "source": [
    "df"
   ]
  }
 ],
 "metadata": {
  "kernelspec": {
   "display_name": "Python 3",
   "language": "python",
   "name": "python3"
  },
  "language_info": {
   "codemirror_mode": {
    "name": "ipython",
    "version": 3
   },
   "file_extension": ".py",
   "mimetype": "text/x-python",
   "name": "python",
   "nbconvert_exporter": "python",
   "pygments_lexer": "ipython3",
   "version": "3.8.3"
  }
 },
 "nbformat": 4,
 "nbformat_minor": 4
}
