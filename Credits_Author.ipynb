{
 "cells": [
  {
   "cell_type": "code",
   "execution_count": 1,
   "metadata": {},
   "outputs": [],
   "source": [
    "\"\"\"\n",
    "99% Invisible Booklist\n",
    "Credits Author \n",
    "Author: Lindsey Viann Parkinson Last updated: March 8, 2021\n",
    "Tokenize the credits scraped earlier and extract authors and title\n",
    "\"\"\"\n",
    "\n",
    "# Packages\n",
    "import pandas as pd\n",
    "from tqdm.notebook import tqdm\n",
    "import re\n",
    "\n",
    "import nltk\n",
    "from nltk.tokenize import word_tokenize\n",
    "from nltk.tag import pos_tag\n",
    "from nltk.chunk import ne_chunk"
   ]
  },
  {
   "cell_type": "code",
   "execution_count": 2,
   "metadata": {},
   "outputs": [],
   "source": [
    "credits_df = pd.read_csv('author_episodes_8pgs.csv')"
   ]
  },
  {
   "cell_type": "code",
   "execution_count": 54,
   "metadata": {},
   "outputs": [],
   "source": [
    "podcast_staff = ['Roman Mars', 'Chris Berube', 'Emmett FitzGerald', 'Emmett Fitzgerald' 'Delaney Hall', 'Christopher Johnson', 'Sofia Klatzker Miller', 'Sofia Klatzer', 'Kurt Kohlstedt', 'Vivian Le', 'Abby Madan', 'Katie Mingle', 'Sean Real', 'Joe Rosenberg']"
   ]
  },
  {
   "cell_type": "code",
   "execution_count": 131,
   "metadata": {},
   "outputs": [],
   "source": [
    "# https://stackoverflow.com/questions/20290870/improving-the-extraction-of-human-names-with-nltk\n",
    "\n",
    "def extract_names(text):\n",
    "    names = []    \n",
    "    for sent in nltk.sent_tokenize(text):\n",
    "        for chunk in nltk.ne_chunk(nltk.pos_tag(nltk.word_tokenize(sent))):\n",
    "            if hasattr(chunk, 'label'):\n",
    "                if chunk.label() == 'PERSON': \n",
    "                    name = ' '.join(c[0] for c in chunk.leaves())\n",
    "                    if name not in podcast_staff: \n",
    "                        names.append(name)\n",
    "    return names\n",
    "\n",
    "def two_word_names(text):\n",
    "    full_names = []\n",
    "    for i in extract_names(text):\n",
    "        if len(i.split()) >= 2 :\n",
    "            full_names.append(i)\n",
    "    return full_names\n",
    "   "
   ]
  },
  {
   "cell_type": "code",
   "execution_count": 116,
   "metadata": {},
   "outputs": [
    {
     "data": {
      "text/plain": [
       "\"['Producer Vivian Le spoke with Ai Weiwei, artist and activist; Patricia Yu, a doctoral candidate in the History of Art at UC Berkeley; Frederik Green, Associate Professor of Chinese and San Francisco State University; Zheng Wang, professor at the School of Diplomacy and International Relations at Seton Hall University and author of ', <em>Never Forget National Humiliation;\\xa0</em>, 'Lark Mason, Chinese art and antiquities specialist; Audrey Wang, historian of Chinese Art and author of ', <em>Chinese Antiquities: An Introduction to the Art Market. </em>, 'Translation and production assistance by Wenjie Yang.']\""
      ]
     },
     "execution_count": 116,
     "metadata": {},
     "output_type": "execute_result"
    }
   ],
   "source": [
    "testtext = credits_df['description'][0]\n",
    "testtext"
   ]
  },
  {
   "cell_type": "code",
   "execution_count": 126,
   "metadata": {},
   "outputs": [
    {
     "data": {
      "text/plain": [
       "['Ai Weiwei',\n",
       " 'Patricia Yu',\n",
       " 'Art',\n",
       " 'Frederik Green',\n",
       " 'San Francisco',\n",
       " 'Zheng Wang',\n",
       " 'Mason',\n",
       " 'Audrey Wang',\n",
       " 'Wenjie Yang']"
      ]
     },
     "execution_count": 126,
     "metadata": {},
     "output_type": "execute_result"
    }
   ],
   "source": [
    "extract_names(testtext)\n",
    "\n",
    "\n"
   ]
  },
  {
   "cell_type": "code",
   "execution_count": 132,
   "metadata": {},
   "outputs": [
    {
     "data": {
      "text/plain": [
       "['Ai Weiwei',\n",
       " 'Patricia Yu',\n",
       " 'Frederik Green',\n",
       " 'San Francisco',\n",
       " 'Zheng Wang',\n",
       " 'Audrey Wang',\n",
       " 'Wenjie Yang']"
      ]
     },
     "execution_count": 132,
     "metadata": {},
     "output_type": "execute_result"
    }
   ],
   "source": [
    "two_word_names(testtext)"
   ]
  }
 ],
 "metadata": {
  "kernelspec": {
   "display_name": "Python 3",
   "language": "python",
   "name": "python3"
  },
  "language_info": {
   "codemirror_mode": {
    "name": "ipython",
    "version": 3
   },
   "file_extension": ".py",
   "mimetype": "text/x-python",
   "name": "python",
   "nbconvert_exporter": "python",
   "pygments_lexer": "ipython3",
   "version": "3.8.3"
  }
 },
 "nbformat": 4,
 "nbformat_minor": 4
}
