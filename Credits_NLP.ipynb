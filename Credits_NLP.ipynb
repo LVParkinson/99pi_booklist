{
 "cells": [
  {
   "cell_type": "code",
   "execution_count": 24,
   "metadata": {},
   "outputs": [],
   "source": [
    "\"\"\"\n",
    "99% Invisible Booklist\n",
    "Credits NLP \n",
    "Author: Lindsey Viann Parkinson Last updated: March 8, 2021\n",
    "Tokenize the credits scraped earlier and extract authors and title\n",
    "\"\"\"\n",
    "\n",
    "# Packages\n",
    "import pandas as pd\n",
    "from tqdm.notebook import tqdm\n",
    "import re\n",
    "\n",
    "import nltk\n",
    "from nltk.tokenize import word_tokenize\n",
    "from nltk.tag import pos_tag\n",
    "from nltk.chunk import ne_chunk\n",
    "\n"
   ]
  },
  {
   "cell_type": "code",
   "execution_count": 36,
   "metadata": {},
   "outputs": [
    {
     "name": "stdout",
     "output_type": "stream",
     "text": [
      "0     ['Producer Vivian Le spoke with Ai Weiwei, art...\n",
      "1     ['Host Roman Mars spoke with Bradley Garrett, ...\n",
      "2     ['Producer Vivian Le spoke with David Bohnett,...\n",
      "3     ['Host Roman Mars spoke with Deirdre Mask, aut...\n",
      "4     ['Reporter Sandy Allen spoke with Joel Sanders...\n",
      "5     ['Host Roman Mars and producer Katie Mingle sp...\n",
      "6     ['Host Roman Mars spoke with Sarah Seo, author...\n",
      "7     ['Producer Avery Trufelman spoke with Adrian F...\n",
      "8     ['Reporter Stephanie Joyce spoke with Ron Blum...\n",
      "9     ['Producer Delaney Hall spoke with  Pamela McC...\n",
      "10    ['Reporter Katie Thornton has posted many arch...\n",
      "11    ['Producer Vivian Le spoke with Cath Senker, a...\n",
      "12    ['Producer Emmett FitzGerald spoke with Adam H...\n",
      "13    ['Host Roman Mars spoke with Gordon C.C. Dougl...\n",
      "14    ['Reporter Angus Chen spoke with Brad Myers, p...\n",
      "15    ['Reporter James T. Green spoke with Arthur Ro...\n",
      "16    ['Producer Emmett FitzGerald spoke with landsc...\n",
      "17    ['Producer Kurt Kohlstedt spoke with Norman Br...\n",
      "18    ['Host Roman Mars spoke with Eric Klinenberg, ...\n",
      "19    ['Producer Joe Rosenberg spoke with Robert Poo...\n",
      "20    ['This episode featured the voices of Kate O’N...\n",
      "21    ['Host Roman Mars spoke with Kassia St. Clair,...\n",
      "22    ['Host and producer Roman Mars spoke with Sam ...\n",
      "23    ['Producer Joe Rosenberg spoke with', <a href=...\n",
      "24    ['Host Roman Mars interviewed\\xa0', <a href=\"h...\n",
      "25    ['Producer Vivian Le spoke with John DiMoia, p...\n",
      "26    ['Producer Emmett FitzGerald and host Roman Ma...\n",
      "27    ['Producer Joe Rosenberg spoke with\\xa0Keith H...\n",
      "28    ['Producer Katie Mingle spoke with her dad, ',...\n",
      "29    ['Producer ', <a href=\"https://99percentinvisi...\n",
      "30    ['Roger Weber, host of a podcast called ', <a ...\n",
      "31    [<a href=\"https://99percentinvisible.org/autho...\n",
      "32    ['Producer Emmett FitzGerarld spoke with\\xa0Pa...\n",
      "33    ['Reporter ', <a href=\"http://joelwerner.com/\"...\n",
      "34    ['Producer Sharif Youssef spoke with Eric Shep...\n",
      "35    ['Reporter\\xa0', <a href=\"http://www.lilachern...\n",
      "36    ['Producers\\xa0Claire Mullen and Avery Trufelm...\n",
      "37    ['Producer Delaney Hall spoke with ', <a href=...\n",
      "38    ['Reporter Joe Sykes spoke with BBC journalist...\n",
      "39    [<span style=\"font-weight: 400;\">Producer Shar...\n",
      "40    ['Producer Avery Trufelman spoke with Roland R...\n",
      "41    ['Producer Sam Greenspan spoke with ', <a href...\n",
      "42    ['Producer ', <a href=\"https://99percentinvisi...\n",
      "43    ['Reporter Emmett Fitzgerald spoke with\\xa0', ...\n",
      "44    ['Host and producer Roman Mars spoke with\\xa0'...\n",
      "45    ['Producer Avery Trufelman spoke with\\xa0', <a...\n",
      "46    ['Producer ', <a href=\"https://99percentinvisi...\n",
      "47    ['Producer ', <a href=\"https://99percentinvisi...\n",
      "Name: description, dtype: object\n"
     ]
    }
   ],
   "source": [
    "credits_df = pd.read_csv('author_episodes_8pgs.csv')\n",
    "print(credits_df['description'])"
   ]
  },
  {
   "cell_type": "code",
   "execution_count": 16,
   "metadata": {
    "scrolled": true
   },
   "outputs": [
    {
     "data": {
      "text/plain": [
       "\"['Producer Vivian Le spoke with Ai Weiwei, artist and activist; Patricia Yu, a doctoral candidate in the History of Art at UC Berkeley; Frederik Green, Associate Professor of Chinese and San Francisco State University; Zheng Wang, professor at the School of Diplomacy and International Relations at Seton Hall University and author of ', <em>Never Forget National Humiliation;\\xa0</em>, 'Lark Mason, Chinese art and antiquities specialist; Audrey Wang, historian of Chinese Art and author of ', <em>Chinese Antiquities: An Introduction to the Art Market. </em>, 'Translation and production assistance by Wenjie Yang.']\""
      ]
     },
     "execution_count": 16,
     "metadata": {},
     "output_type": "execute_result"
    }
   ],
   "source": [
    "raw_credit = credits_df['description'][0]\n",
    "raw_credit"
   ]
  },
  {
   "cell_type": "code",
   "execution_count": 39,
   "metadata": {},
   "outputs": [
    {
     "data": {
      "application/vnd.jupyter.widget-view+json": {
       "model_id": "51bf6e2cf3b54a61a14ead8d1432ced8",
       "version_major": 2,
       "version_minor": 0
      },
      "text/plain": [
       "HBox(children=(FloatProgress(value=0.0, max=48.0), HTML(value='')))"
      ]
     },
     "metadata": {},
     "output_type": "display_data"
    },
    {
     "name": "stdout",
     "output_type": "stream",
     "text": [
      "\n"
     ]
    },
    {
     "data": {
      "text/plain": [
       "[['Never Forget National Humiliation;\\xa0',\n",
       "  'Chinese Antiquities: An Introduction to the Art Market. '],\n",
       " ['Bunker: Building for the End Times'],\n",
       " [],\n",
       " [],\n",
       " [],\n",
       " ['<a href=\"https://www.amazon.com/gp/product/1594205000/ref=as_li_tl?ie=UTF8&amp;camp=1789&amp;creative=9325&amp;creativeASIN=1594205000&amp;linkCode=as2&amp;tag=99pi-20&amp;linkId=d778a76a74ef5abb5e03b41fd136c020\" rel=\"noopener noreferrer\" target=\"_blank\">How The Post Office Created America: A History</a>'],\n",
       " [],\n",
       " ['Heroic: Concrete Architecture and the New Boston'],\n",
       " [],\n",
       " [],\n",
       " [],\n",
       " [],\n",
       " [],\n",
       " [],\n",
       " [],\n",
       " [],\n",
       " [],\n",
       " [],\n",
       " [],\n",
       " [],\n",
       " [],\n",
       " [],\n",
       " ['Boom Town: The Fantastical Saga of Oklahoma City, Its Chaotic Founding, Its Apocalyptic Weather, Its Purloined Basketball Team, and the Dream of Becoming a World-Class Metropolis'],\n",
       " ['The Houses That Sears Built: Everything You Ever Wanted to Know About Sears Catalog Homes',\n",
       "  'Penniman: Virginia’s Own Ghost City',\n",
       "  'Mail-Order Homes: Sears Homes and Other Kit Houses'],\n",
       " ['<strong>Disposable America –</strong> A history of modern capitalism from the perspective of the straw. Seriously',\n",
       "  'The Atlantic – ',\n",
       "  '.\\xa0'],\n",
       " [],\n",
       " ['<a href=\"https://amzn.to/2mufXQy\" rel=\"noopener noreferrer\" target=\"_blank\">And Now the Shipping Forecast: A Tide of History Around Our Shores</a>,',\n",
       "  'Attention All Shipping: A Journey Round the Shipping Forecast'],\n",
       " ['Shady Characters: The Secret Life of Punctuation, Symbols, and Other Typographical Marks'],\n",
       " ['<a href=\"https://amzn.to/2luGZqD\" rel=\"noopener noreferrer\" target=\"_blank\">This Land is Your Land: How We Lost the Right to Roam and How to Take it Back.</a>'],\n",
       " ['Manufactured Insecurity: Mobile Home Parks and Americans Tenuous Right to Place',\n",
       "  'Diners, Bowling Alleys and Trailer Parks'],\n",
       " ['<a href=\"https://amzn.to/2FRpUk4\" rel=\"noopener noreferrer\" target=\"_blank\">Fordlandia: The Rise and Fall of Henry Ford’s Forgotten Jungle City</a>'],\n",
       " ['<a href=\"https://amzn.to/2DlcVZ4\" rel=\"noopener noreferrer\" target=\"_blank\">Losing Our Cool</a>;',\n",
       "  '<a href=\"https://amzn.to/2Dak4rO\" rel=\"noopener noreferrer\" target=\"_blank\">How We Got To Now</a>;\\xa0',\n",
       "  'Thermal Delight in Architecture'],\n",
       " ['<a href=\"https://amzn.to/2zknHx3\" rel=\"noopener noreferrer\" target=\"_blank\">American Catch</a>;\\xa0',\n",
       "  '<a href=\"https://amzn.to/2iitHeL\" rel=\"noopener noreferrer\" target=\"_blank\">The Big Oyster;</a>\\xa0',\n",
       "  'Toward an Urban Ecology'],\n",
       " ['Sum of All Parts'],\n",
       " ['<a href=\"http://upf.com/book.asp?id=SAYER001\" rel=\"noopener noreferrer\" target=\"_blank\">A Desolate Place For A Defiant People:\\xa0The Archaeology\\xa0Of Maroons, Indigenous Americans, And Enslaved Laborers\\xa0In The Great Dismal Swamp</a>)',\n",
       "  'Slavery’s Exiles, The Story Of The American Maroons'],\n",
       " [],\n",
       " ['Spectacular Mexico: Design, Propaganda, and the 1968 Olympics,', '\\xa0'],\n",
       " [],\n",
       " ['Shocking Brazil: Six Games That Shook the World Cup',\n",
       "  'Futebol Nation: A Footballing History of Brazil'],\n",
       " ['Made To Order: Plant Breeding And Technological Innovation in Twentieth-Century America'],\n",
       " ['<a href=\"https://amzn.to/2m3XxW3\" rel=\"noopener noreferrer\" target=\"_blank\">Usonia, New York: Building a Community with Frank Lloyd Wright</a>'],\n",
       " [],\n",
       " ['The Soundscape of Modernity: Architectural Acoustics and the Culture of Listening in America'],\n",
       " ['<a href=\"https://www.amazon.com/Gold-Rush-Port-Arch%C3%A6ology-Franciscos/dp/0520255801\" rel=\"noopener noreferrer\" target=\"_blank\">Gold Rush Port: The Maritime Archaeology of San Francisco</a>',\n",
       "  '<a href=\"https://www.amazon.com/dp/B011G4DNYS/ref=dp-kindle-redirect?_encoding=UTF8&amp;btkr=1\" rel=\"noopener noreferrer\" target=\"_blank\">Vertical: the City from Satellites to Bunkers</a>',\n",
       "  '\\xa0'],\n",
       " ['<a href=\"https://amzn.to/2mVpIpc\" rel=\"noopener noreferrer\" target=\"_blank\">The Road Taken: The History and Future of America’s Infrastructure</a>'],\n",
       " ['<a href=\"http://www.toddrose.com/endofaverage/\" rel=\"noopener noreferrer\" target=\"_blank\">The End of Average</a>\\xa0'],\n",
       " [],\n",
       " ['The Creative Architect: Inside the Great Midcentury Personality Study']]"
      ]
     },
     "execution_count": 39,
     "metadata": {},
     "output_type": "execute_result"
    }
   ],
   "source": [
    "title = []\n",
    "regex_title = r'(?<=<em>)(.*?)(?=<\\/em>)' \n",
    "for credit in tqdm(credits_df[\"description\"]):  \n",
    "    title.append(re.findall(regex_title,credit))\n"
   ]
  },
  {
   "cell_type": "code",
   "execution_count": 44,
   "metadata": {},
   "outputs": [
    {
     "ename": "TypeError",
     "evalue": "expected string or bytes-like object",
     "output_type": "error",
     "traceback": [
      "\u001b[0;31m---------------------------------------------------------------------------\u001b[0m",
      "\u001b[0;31mTypeError\u001b[0m                                 Traceback (most recent call last)",
      "\u001b[0;32m<ipython-input-44-117e250000ec>\u001b[0m in \u001b[0;36m<module>\u001b[0;34m\u001b[0m\n\u001b[1;32m      1\u001b[0m \u001b[0mregex_title2\u001b[0m \u001b[0;34m=\u001b[0m \u001b[0;34mr'(?<=blank\">)(.*?)(?=<\\/a>)'\u001b[0m\u001b[0;34m\u001b[0m\u001b[0;34m\u001b[0m\u001b[0m\n\u001b[1;32m      2\u001b[0m \u001b[0;32mfor\u001b[0m \u001b[0mitem\u001b[0m \u001b[0;32min\u001b[0m \u001b[0mtitle\u001b[0m\u001b[0;34m:\u001b[0m\u001b[0;34m\u001b[0m\u001b[0;34m\u001b[0m\u001b[0m\n\u001b[0;32m----> 3\u001b[0;31m     \u001b[0mitem\u001b[0m \u001b[0;34m=\u001b[0m \u001b[0mre\u001b[0m\u001b[0;34m.\u001b[0m\u001b[0mfindall\u001b[0m\u001b[0;34m(\u001b[0m\u001b[0mregex_title2\u001b[0m\u001b[0;34m,\u001b[0m\u001b[0mitem\u001b[0m\u001b[0;34m)\u001b[0m\u001b[0;34m\u001b[0m\u001b[0;34m\u001b[0m\u001b[0m\n\u001b[0m\u001b[1;32m      4\u001b[0m \u001b[0;34m\u001b[0m\u001b[0m\n\u001b[1;32m      5\u001b[0m \u001b[0mtitle\u001b[0m\u001b[0;34m\u001b[0m\u001b[0;34m\u001b[0m\u001b[0m\n",
      "\u001b[0;32m~/anaconda3/lib/python3.8/re.py\u001b[0m in \u001b[0;36mfindall\u001b[0;34m(pattern, string, flags)\u001b[0m\n\u001b[1;32m    239\u001b[0m \u001b[0;34m\u001b[0m\u001b[0m\n\u001b[1;32m    240\u001b[0m     Empty matches are included in the result.\"\"\"\n\u001b[0;32m--> 241\u001b[0;31m     \u001b[0;32mreturn\u001b[0m \u001b[0m_compile\u001b[0m\u001b[0;34m(\u001b[0m\u001b[0mpattern\u001b[0m\u001b[0;34m,\u001b[0m \u001b[0mflags\u001b[0m\u001b[0;34m)\u001b[0m\u001b[0;34m.\u001b[0m\u001b[0mfindall\u001b[0m\u001b[0;34m(\u001b[0m\u001b[0mstring\u001b[0m\u001b[0;34m)\u001b[0m\u001b[0;34m\u001b[0m\u001b[0;34m\u001b[0m\u001b[0m\n\u001b[0m\u001b[1;32m    242\u001b[0m \u001b[0;34m\u001b[0m\u001b[0m\n\u001b[1;32m    243\u001b[0m \u001b[0;32mdef\u001b[0m \u001b[0mfinditer\u001b[0m\u001b[0;34m(\u001b[0m\u001b[0mpattern\u001b[0m\u001b[0;34m,\u001b[0m \u001b[0mstring\u001b[0m\u001b[0;34m,\u001b[0m \u001b[0mflags\u001b[0m\u001b[0;34m=\u001b[0m\u001b[0;36m0\u001b[0m\u001b[0;34m)\u001b[0m\u001b[0;34m:\u001b[0m\u001b[0;34m\u001b[0m\u001b[0;34m\u001b[0m\u001b[0m\n",
      "\u001b[0;31mTypeError\u001b[0m: expected string or bytes-like object"
     ]
    }
   ],
   "source": [
    "\n",
    "\n",
    "regex_title2 = r'(?<=blank\">)(.*?)(?=<\\/a>)' \n",
    "for item in title:\n",
    "    \n",
    "    item = re.findall(regex_title2,item)\n",
    "\n",
    "title"
   ]
  },
  {
   "cell_type": "code",
   "execution_count": null,
   "metadata": {},
   "outputs": [],
   "source": []
  }
 ],
 "metadata": {
  "kernelspec": {
   "display_name": "Python 3",
   "language": "python",
   "name": "python3"
  },
  "language_info": {
   "codemirror_mode": {
    "name": "ipython",
    "version": 3
   },
   "file_extension": ".py",
   "mimetype": "text/x-python",
   "name": "python",
   "nbconvert_exporter": "python",
   "pygments_lexer": "ipython3",
   "version": "3.8.3"
  }
 },
 "nbformat": 4,
 "nbformat_minor": 4
}
