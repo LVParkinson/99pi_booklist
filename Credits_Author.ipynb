{
 "cells": [
  {
   "cell_type": "code",
   "execution_count": 3,
   "metadata": {},
   "outputs": [],
   "source": [
    "\"\"\"\n",
    "99% Invisible Booklist\n",
    "Credits Author \n",
    "Author: Lindsey Viann Parkinson Last updated: March 8, 2021\n",
    "Tokenize the credits scraped earlier and extract authors and title\n",
    "\"\"\"\n",
    "\n",
    "# Packages\n",
    "import pandas as pd\n",
    "from tqdm.notebook import tqdm\n",
    "import re\n",
    "\n",
    "import nltk\n",
    "from nltk.tokenize import word_tokenize\n",
    "from nltk.tag import pos_tag\n",
    "from nltk.chunk import ne_chunk"
   ]
  },
  {
   "cell_type": "code",
   "execution_count": 4,
   "metadata": {},
   "outputs": [],
   "source": [
    "credits_df = pd.read_csv('author_episodes_8pgs.csv')"
   ]
  },
  {
   "cell_type": "code",
   "execution_count": 5,
   "metadata": {},
   "outputs": [],
   "source": [
    "podcast_staff = ['Roman Mars', 'Chris Berube', 'Emmett FitzGerald', 'Emmett Fitzgerald' 'Delaney Hall', 'Christopher Johnson', 'Sofia Klatzker Miller', 'Sofia Klatzer', 'Kurt Kohlstedt', 'Vivian Le', 'Abby Madan', 'Katie Mingle', 'Sean Real', 'Joe Rosenberg']"
   ]
  },
  {
   "cell_type": "code",
   "execution_count": 27,
   "metadata": {},
   "outputs": [],
   "source": [
    "# https://stackoverflow.com/questions/20290870/improving-the-extraction-of-human-names-with-nltk\n",
    "\n",
    "def extract_names(df_column):\n",
    "    names = []\n",
    "    for description in df_column:          \n",
    "        for sent in nltk.sent_tokenize(description):\n",
    "            if \"author of\" in sent:\n",
    "                podcast_guests = []\n",
    "                for chunk in nltk.ne_chunk(nltk.pos_tag(nltk.word_tokenize(sent))):\n",
    "                    if hasattr(chunk, 'label'):\n",
    "                        if chunk.label() == 'PERSON': \n",
    "                            name = ' '.join(c[0] for c in chunk.leaves())\n",
    "                            if name not in podcast_staff: \n",
    "                                podcast_guests.append(name)\n",
    "                names.append(podcast_guests)                \n",
    "    return names\n",
    "\n",
    "def two_word_names(text): \n",
    "    episode_guests = []\n",
    "    for guest_list in extract_names(text):\n",
    "        full_names = []\n",
    "        for i in guest_list:         \n",
    "            if len(i.split()) >= 2 :\n",
    "                full_names.append(i)\n",
    "        episode_guests.append(full_names)\n",
    "    return episode_guests\n",
    "   "
   ]
  },
  {
   "cell_type": "code",
   "execution_count": 47,
   "metadata": {},
   "outputs": [],
   "source": [
    "testtext = credits_df['description']\n",
    "#testtext"
   ]
  },
  {
   "cell_type": "code",
   "execution_count": 35,
   "metadata": {},
   "outputs": [
    {
     "data": {
      "text/plain": [
       "49"
      ]
     },
     "execution_count": 35,
     "metadata": {},
     "output_type": "execute_result"
    }
   ],
   "source": [
    "len(two_word_names(testtext))\n"
   ]
  },
  {
   "cell_type": "code",
   "execution_count": 38,
   "metadata": {},
   "outputs": [
    {
     "data": {
      "text/plain": [
       "49"
      ]
     },
     "execution_count": 38,
     "metadata": {},
     "output_type": "execute_result"
    }
   ],
   "source": [
    "len(extract_names(testtext))"
   ]
  },
  {
   "cell_type": "code",
   "execution_count": 36,
   "metadata": {
    "scrolled": true
   },
   "outputs": [
    {
     "data": {
      "text/plain": [
       "48"
      ]
     },
     "execution_count": 36,
     "metadata": {},
     "output_type": "execute_result"
    }
   ],
   "source": [
    "len(credits_df[\"description\"])"
   ]
  },
  {
   "cell_type": "code",
   "execution_count": 48,
   "metadata": {},
   "outputs": [],
   "source": [
    "testnames = two_word_names(testtext)"
   ]
  },
  {
   "cell_type": "code",
   "execution_count": 58,
   "metadata": {},
   "outputs": [
    {
     "data": {
      "text/plain": [
       "['Avery Trufelman', 'Ravenna Helson', 'Pierluigi Serraino', 'Oshin Vartanian']"
      ]
     },
     "execution_count": 58,
     "metadata": {},
     "output_type": "execute_result"
    }
   ],
   "source": [
    "testnames[48]"
   ]
  },
  {
   "cell_type": "code",
   "execution_count": 57,
   "metadata": {},
   "outputs": [
    {
     "data": {
      "text/plain": [
       "'[\\'Producer \\', <a href=\"https://99percentinvisible.org/author/avery-trufelman/\">Avery Trufelman</a>, \\'\\\\xa0spoke with personality psychologist\\\\xa0\\', <a href=\"http://psychology.berkeley.edu/people/ravenna-m-helson\" rel=\"noopener noreferrer\" target=\"_blank\">Ravenna Helson</a>, \\', who worked at the\\\\xa0Institute of Personality Assessment and Research;\\\\xa0\\', <a href=\"http://www.pierluigiserraino.com/\" rel=\"noopener noreferrer\" target=\"_blank\">Pierluigi Serraino</a>, \\', architect and author of \\', <a href=\"http://www.monacellipress.com/book/?isbn=9781580934251\" rel=\"noopener noreferrer\" target=\"_blank\"><em>The Creative Architect: Inside the Great Midcentury Personality Study</em></a>, \\'; and\\\\xa0\\', <a href=\"https://mitpress.mit.edu/authors/oshin-vartanian\" rel=\"noopener noreferrer\" target=\"_blank\">Oshin Vartanian</a>, \\',\\\\xa0a creativity and cognition research specialist at the University of Toronto.\\']'"
      ]
     },
     "execution_count": 57,
     "metadata": {},
     "output_type": "execute_result"
    }
   ],
   "source": [
    "credits_df['description'][47]"
   ]
  }
 ],
 "metadata": {
  "kernelspec": {
   "display_name": "Python 3",
   "language": "python",
   "name": "python3"
  },
  "language_info": {
   "codemirror_mode": {
    "name": "ipython",
    "version": 3
   },
   "file_extension": ".py",
   "mimetype": "text/x-python",
   "name": "python",
   "nbconvert_exporter": "python",
   "pygments_lexer": "ipython3",
   "version": "3.8.3"
  }
 },
 "nbformat": 4,
 "nbformat_minor": 4
}
